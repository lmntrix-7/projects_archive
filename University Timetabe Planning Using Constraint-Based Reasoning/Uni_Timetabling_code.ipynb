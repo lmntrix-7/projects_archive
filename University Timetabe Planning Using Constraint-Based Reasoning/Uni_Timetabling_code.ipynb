{
  "nbformat": 4,
  "nbformat_minor": 0,
  "metadata": {
    "colab": {
      "provenance": []
    },
    "kernelspec": {
      "name": "python3",
      "display_name": "Python 3"
    },
    "language_info": {
      "name": "python"
    }
  },
  "cells": [
    {
      "cell_type": "markdown",
      "source": [
        "# Timetabling Problem\n",
        "\n"
      ],
      "metadata": {
        "id": "mKoSTQVi6ZiZ"
      }
    },
    {
      "cell_type": "markdown",
      "source": [
        "The CP part of this notebook mainly draws from [this](https://developers.google.com/optimization/scheduling/job_shop?hl=en) Google guide."
      ],
      "metadata": {
        "id": "7-tzbUqoMpl7"
      }
    },
    {
      "cell_type": "markdown",
      "source": [
        "The dataset used in this notebook is from the University of Brasilia and it's downloadable from [here](https://www.kaggle.com/datasets/danielefm/students-timetables-university-of-brasilia/data?select=student_timetable.csv)"
      ],
      "metadata": {
        "id": "f5miVSGg_FaF"
      }
    },
    {
      "cell_type": "markdown",
      "source": [
        "**Note for running this code:** you must install the library (the cell below) and **restart the runtime**, so the `import` command would work as expected."
      ],
      "metadata": {
        "id": "GAvZEgE_jN_K"
      }
    },
    {
      "cell_type": "code",
      "source": [
        "#!pip install --upgrade --user ortools"
      ],
      "metadata": {
        "id": "7O4b1a_56BIl"
      },
      "execution_count": 1,
      "outputs": []
    },
    {
      "cell_type": "code",
      "source": [
        "# Importing necessary libraries\n",
        "import pandas as pd\n",
        "import random\n",
        "import collections\n",
        "import time\n",
        "from ortools.sat.python import cp_model\n",
        "import warnings\n",
        "warnings.filterwarnings('ignore')"
      ],
      "metadata": {
        "id": "fb0WIbSvjaR1"
      },
      "execution_count": 2,
      "outputs": []
    },
    {
      "cell_type": "markdown",
      "source": [
        "The goal of this analysis is to set for each course two time-slots in a particular room following some specific constraints."
      ],
      "metadata": {
        "id": "OX7xlskjVR_T"
      }
    },
    {
      "cell_type": "markdown",
      "source": [
        "Data Preprocessing:\n",
        "In the initial stage of data preprocessing, courses associated with rooms labeled \"Missing info\" were excluded from the dataset. This decision was based on the assumption that such courses do not take place within the university, making them irrelevant for the timetabling process.\n",
        "\n",
        "Furthermore, the analysis concentrated exclusively on rooms designated with the identifier \"SALA.\" By isolating rooms with this specific identifier, the preprocessing step intended to prevent the matching of courses that inherently require designated rooms with generic or unsuitable alternatives.\n",
        "\n",
        "Throughout the whole analysis we assume that every course has 2 weekly meetings of 2 hours each (1 slot per lecture, 2 slots per course).\n",
        "\n",
        "Lastly, we isolated 10000 observation to reduce the computational time of our experiment."
      ],
      "metadata": {
        "id": "rcfLVw-6jv24"
      }
    },
    {
      "cell_type": "code",
      "execution_count": 3,
      "metadata": {
        "id": "7c771xeZ061N"
      },
      "outputs": [],
      "source": [
        "df = pd.read_csv('student_timetable.csv', sep=';')\n",
        "df = df[df.room_address != 'Missing info']\n",
        "df = df[df.room_address.str.startswith('SALA')]\n",
        "df = df[10000:20000]"
      ]
    },
    {
      "cell_type": "markdown",
      "source": [
        "## SEMESTER 1"
      ],
      "metadata": {
        "id": "7NJA-Rbx6e1R"
      }
    },
    {
      "cell_type": "code",
      "source": [
        "start_1 = time.time()\n",
        "semester_1 = df[df['year_semester'] == 20191]\n",
        "\n",
        "students = semester_1['student_id'].unique()\n",
        "classes = semester_1['room_address'].unique()\n",
        "courses = semester_1['course'].unique()\n",
        "n_courses_1 = len(courses)\n",
        "slots = ['Monday 8-10', 'Monday 10-12', 'Monday 12-14', 'Monday 14-16', 'Monday 16-18',\n",
        "         'Tuesday 8-10', 'Tuesday 10-12', 'Tuesday 12-14', 'Tuesday 14-16', 'Tuesday 16-18',\n",
        "         'Wednesday 8-10', 'Wednesday 10-12', 'Wednesday 12-14', 'Wednesday 14-16', 'Wednesday 16-18',\n",
        "         'Thursday 8-10', 'Thursday 10-12', 'Thursday 12-14', 'Thursday 14-16', 'Thursday 16-18',\n",
        "         'Friday 8-10', 'Friday 10-12', 'Friday 12-14', 'Friday 14-16', 'Friday 16-18']\n",
        "\n",
        "timetable = pd.DataFrame(columns=classes, index=slots)\n",
        "semester_1['course_ind'] = 0\n",
        "# creating new variable to keep the indices of each course\n",
        "for ind in range(len(courses)):\n",
        "    semester_1['course_ind'].iloc[semester_1['course'] == courses[ind]] = ind\n"
      ],
      "metadata": {
        "id": "F9ZW3hID1Bvv"
      },
      "execution_count": 4,
      "outputs": []
    },
    {
      "cell_type": "markdown",
      "source": [
        "Every student can have only one lesson for time-slot, so there are some courses that necessarly have to be in different timeslots.\n",
        "\n",
        "A dictionary is created to keep track of these conflicts for each course:"
      ],
      "metadata": {
        "id": "_pWGq96EVzT8"
      }
    },
    {
      "cell_type": "code",
      "source": [
        "def check_no_course(a, course): # return the list a without the value 'course' inside\n",
        "    final = []\n",
        "    for elem in a:\n",
        "        if elem != course:\n",
        "            final.append(elem)\n",
        "    return final\n",
        "\n",
        "course_indices = semester_1['course_ind'].unique()\n",
        "conflict_dict = {}\n",
        "\n",
        "for course in course_indices:\n",
        "    temp = semester_1[semester_1['course_ind'] == course]\n",
        "    for student in temp['student_id'].unique():\n",
        "        if course not in conflict_dict.keys():\n",
        "            other_courses = list(semester_1['course_ind'][semester_1['student_id'] == student].unique())\n",
        "            conflict_dict[course] = check_no_course(other_courses, course)\n",
        "        else:\n",
        "            other_courses = list(semester_1['course_ind'][semester_1['student_id'] == student].unique())\n",
        "            conflict_dict[course] = conflict_dict[course] + check_no_course(other_courses, course)\n",
        "\n",
        "for j in conflict_dict:\n",
        "    conflict_dict[j] = list(set(conflict_dict[j]))"
      ],
      "metadata": {
        "id": "p2sTzQ70VMA0"
      },
      "execution_count": 5,
      "outputs": []
    },
    {
      "cell_type": "markdown",
      "source": [
        "Creating and using a CP solver from the OR-Tools library a solution is found:"
      ],
      "metadata": {
        "id": "k4GPtOIqkwtj"
      }
    },
    {
      "cell_type": "code",
      "source": [
        "# Main code for solving the timetable problem\n",
        "timetable_s1 = pd.DataFrame(columns = slots, index = range(len(classes)))\n",
        "rooms = []\n",
        "random_room = 0\n",
        "\n",
        "# Problem data\n",
        "lessons_data = []\n",
        "for ind1 in range(len(courses)):\n",
        "    room_assignments = []\n",
        "    for ind2 in range(2): # 4 hours per week for lesson\n",
        "        random_room = random.sample(range(len(classes)), 1)[0]\n",
        "        room_assignments.append((random_room, 1))\n",
        "\n",
        "    lessons_data.append(room_assignments)\n",
        "\n",
        "\n",
        "classes_count = 1 + max(task[0] for lesson in lessons_data for task in lesson)\n",
        "\n",
        "all_classes = range(classes_count)\n",
        "\n",
        "horizon = 24\n",
        "\n",
        "\n",
        "# create the model\n",
        "model = cp_model.CpModel()\n",
        "\n",
        "# namedtuple to store information about created variables\n",
        "number_type = collections.namedtuple('number_type', 'start end interval')\n",
        "# namedtuple to manipulate solution information\n",
        "assigned_number_type = collections.namedtuple('assigned_number_type',\n",
        "                                            'start lesson index duration')\n",
        "\n",
        "# creates lesson intervals and add to the corresponding classes lists\n",
        "all_numbers = {}\n",
        "class_to_interval = collections.defaultdict(list)\n",
        "\n",
        "for lesson_id, lesson in enumerate(lessons_data):\n",
        "    for number_id, number in enumerate(lesson):\n",
        "        classs = number[0]\n",
        "        duration = number[1]\n",
        "        suffix = '_%i_%i' % (lesson_id, number_id)\n",
        "        start_var = model.NewIntVar(0, horizon, 'start' + suffix)\n",
        "        end_var = model.NewIntVar(0, horizon, 'end' + suffix)\n",
        "        interval_var = model.NewIntervalVar(start_var, duration, end_var,\n",
        "                                            'interval' + suffix)\n",
        "        all_numbers[lesson_id, number_id] = number_type(start=start_var,\n",
        "                                                end=end_var,\n",
        "                                                interval=interval_var)\n",
        "        class_to_interval[classs].append(interval_var)\n",
        "\n",
        "# create and add disjunctive constraints\n",
        "for classs in all_classes:\n",
        "    model.AddNoOverlap(class_to_interval[classs])\n",
        "\n",
        "\n",
        "# add precedence constraints -> precedences between lessons\n",
        "for lesson_id, lesson in enumerate(lessons_data):\n",
        "    for i in conflict_dict[lesson_id]:\n",
        "        model.Add(all_numbers[lesson_id, 0].start != all_numbers[i, 0].start)\n",
        "    for number_id in range(len(lesson) - 1):\n",
        "        model.Add(all_numbers[lesson_id, number_id + 1].start >= all_numbers[lesson_id, number_id].end)\n",
        "\n",
        "\n",
        "# no conflicts constraint\n",
        "for elem in conflict_dict:\n",
        "    for i in conflict_dict[elem]:\n",
        "        model.Add(all_numbers[elem, 0].start != all_numbers[i, 0].start)\n",
        "        model.Add(all_numbers[elem, 0].start != all_numbers[i, 1].start)\n",
        "        model.Add(all_numbers[elem, 1].start != all_numbers[i, 0].start)\n",
        "        model.Add(all_numbers[elem, 1].start != all_numbers[i, 1].start)\n",
        "\n",
        "\n",
        "# creates the solver and solve\n",
        "solver = cp_model.CpSolver()\n",
        "status = solver.Solve(model)\n",
        "\n",
        "if status == cp_model.OPTIMAL:\n",
        "    # create one list of assigned numbers per class\n",
        "    assigned_lessons = collections.defaultdict(list)\n",
        "    for lesson_id, lesson in enumerate(lessons_data):\n",
        "        for number_id, number in enumerate(lesson):\n",
        "            classs = number[0]\n",
        "            assigned_lessons[classs].append(\n",
        "                assigned_number_type(start=solver.Value(\n",
        "                    all_numbers[lesson_id, number_id].start),\n",
        "                                    lesson=lesson_id,\n",
        "                                    index=number_id,\n",
        "                                    duration=number[1]))\n",
        "\n",
        "\n",
        "    for classs in all_classes:\n",
        "        # sort by starting time\n",
        "        assigned_lessons[classs].sort()\n",
        "        row = []\n",
        "        for assigned_number in assigned_lessons[classs]:\n",
        "            row.append([assigned_number.lesson, assigned_number.start])\n",
        "\n",
        "            start = assigned_number.start\n",
        "            duration = assigned_number.duration\n",
        "\n",
        "        for elem in row:\n",
        "            timetable_s1.iloc[classs, elem[1]] = elem[0]\n",
        "\n",
        "\n",
        "\n",
        "    print('  - conflicts: %i' % solver.NumConflicts())\n",
        "    print('  - wall time: %f s' % solver.WallTime())\n",
        "else:\n",
        "    print('No solution found.')\n",
        "\n"
      ],
      "metadata": {
        "colab": {
          "base_uri": "https://localhost:8080/"
        },
        "id": "g_Zeh7Rb3aGp",
        "outputId": "10b3dca7-e91c-45a1-bdb3-ad47e9cc42da"
      },
      "execution_count": 6,
      "outputs": [
        {
          "output_type": "stream",
          "name": "stdout",
          "text": [
            "  - conflicts: 13\n",
            "  - wall time: 4.762136 s\n"
          ]
        }
      ]
    },
    {
      "cell_type": "code",
      "source": [
        "timetable_s1 = timetable_s1.transpose()"
      ],
      "metadata": {
        "id": "RxMKjXL16kck"
      },
      "execution_count": 7,
      "outputs": []
    },
    {
      "cell_type": "markdown",
      "source": [
        "From the index the real name of the classes is returned:"
      ],
      "metadata": {
        "id": "f0Cz2jfPk-dW"
      }
    },
    {
      "cell_type": "code",
      "source": [
        "timetable_s1.columns = classes\n",
        "for i in range(len(timetable_s1)):\n",
        "  for j in range(len(classes)):\n",
        "    if not pd.isna(timetable_s1.iloc[i,j]):\n",
        "      timetable_s1.iloc[i,j] = courses[timetable_s1.iloc[i,j]]\n",
        "    else:\n",
        "      timetable_s1.iloc[i,j] = '*'"
      ],
      "metadata": {
        "id": "lA6gaJo-6uY2"
      },
      "execution_count": 8,
      "outputs": []
    },
    {
      "cell_type": "markdown",
      "source": [
        "A function that gives a value to each timetable based on some soft constraints as having courses of two adjacent time slots and having free afternoons"
      ],
      "metadata": {
        "id": "aBoVVl8elHX7"
      }
    },
    {
      "cell_type": "code",
      "source": [
        "def check_soft(tt):\n",
        "  val = 0\n",
        "  for i in range(25):\n",
        "    for j in range(len(classes)):\n",
        "      if i % 5 != 4:\n",
        "        if tt.iloc[i,j] == tt.iloc[i+1,j]: # preferrably having courses of two adjacent time slots (not on different days)\n",
        "          val += 0.1\n",
        "      if i % 5 == 4 or i % 5 == 3: # preferrably having free afternoons\n",
        "        if tt.iloc[i,j] == '*':\n",
        "          val += 1\n",
        "  return val"
      ],
      "metadata": {
        "id": "GqCcj3si67Bd"
      },
      "execution_count": 9,
      "outputs": []
    },
    {
      "cell_type": "markdown",
      "source": [
        "Permutating 500 times the rows of the dataset the timetable with a higher value for soft constraints it is chosen"
      ],
      "metadata": {
        "id": "YT_ZiaZ6lZi7"
      }
    },
    {
      "cell_type": "code",
      "source": [
        "new_tt = timetable_s1.copy() # working timetable\n",
        "\n",
        "final_tt1 = timetable_s1.copy() # final timetable\n",
        "current = check_soft(final_tt1) # value of the final\n",
        "\n",
        "for tts in range(100):\n",
        "  new = random.sample(range(25), 25) # random permutation\n",
        "  for i in range(25):\n",
        "    new_tt.iloc[i] = timetable_s1.iloc[new[i]]\n",
        "  value = check_soft(new_tt) # checking the value of the permutation\n",
        "  if value > current: # saving it if it's better\n",
        "    final_tt1 = new_tt.copy()\n",
        "    current = value\n",
        "\n",
        "end_1 = time.time()\n",
        "final_tt1.iloc[:,0:4]"
      ],
      "metadata": {
        "id": "5g79_Trh6-gc"
      },
      "execution_count": null,
      "outputs": []
    },
    {
      "cell_type": "markdown",
      "source": [
        "## SEMESTER 2"
      ],
      "metadata": {
        "id": "TXhmbxyeG-eH"
      }
    },
    {
      "cell_type": "markdown",
      "source": [
        "Doing the same thing for semester 2"
      ],
      "metadata": {
        "id": "Kvj7P84Rln-F"
      }
    },
    {
      "cell_type": "code",
      "source": [
        "start_2 = time.time()\n",
        "semester_2 = df[df['year_semester'] == 20192]\n",
        "\n",
        "students = semester_2['student_id'].unique()\n",
        "classes = semester_2['room_address'].unique()\n",
        "courses = semester_2['course'].unique()\n",
        "n_courses_2 = len(courses)\n",
        "\n",
        "\n",
        "semester_2['course_ind'] = 0\n",
        "for ind in range(len(courses)):\n",
        "    semester_2['course_ind'].iloc[semester_2['course'] == courses[ind]] = ind\n"
      ],
      "metadata": {
        "id": "cMg4ONs2G-eI"
      },
      "execution_count": null,
      "outputs": []
    },
    {
      "cell_type": "code",
      "source": [
        "course_indices = semester_2['course_ind'].unique()\n",
        "conflict_dict = {}\n",
        "for course in course_indices:\n",
        "    temp = semester_2[semester_2['course_ind'] == course]\n",
        "    for student in temp['student_id'].unique():\n",
        "        if course not in conflict_dict.keys():\n",
        "            other_courses = list(semester_2['course_ind'][semester_2['student_id'] == student].unique())\n",
        "            conflict_dict[course] = check_no_course(other_courses, course)\n",
        "        else:\n",
        "            other_courses = list(semester_2['course_ind'][semester_2['student_id'] == student].unique())\n",
        "            conflict_dict[course] = conflict_dict[course] + check_no_course(other_courses, course)\n",
        "\n",
        "for j in conflict_dict:\n",
        "    conflict_dict[j] = list(set(conflict_dict[j]))\n"
      ],
      "metadata": {
        "id": "vYksx_gQG-eI"
      },
      "execution_count": null,
      "outputs": []
    },
    {
      "cell_type": "code",
      "source": [
        "timetable_s2 = pd.DataFrame(columns = slots, index = range(len(classes)))\n",
        "rooms = []\n",
        "random_room = 0\n",
        "\n",
        "# Problem data\n",
        "lessons_data = []\n",
        "for ind1 in range(len(courses)):\n",
        "    room_assignments = []\n",
        "    for ind2 in range(2): # 4 hours per week for lesson\n",
        "        random_room = random.sample(range(len(classes)), 1)[0]\n",
        "        room_assignments.append((random_room, 1))\n",
        "\n",
        "    lessons_data.append(room_assignments)\n",
        "\n",
        "\n",
        "classes_count = 1 + max(number[0] for lesson in lessons_data for number in lesson)\n",
        "\n",
        "all_classes = range(classes_count)\n",
        "\n",
        "horizon = 24\n",
        "\n",
        "\n",
        "# create the model\n",
        "model = cp_model.CpModel()\n",
        "\n",
        "# namedtuple to store information about created variables\n",
        "number_type = collections.namedtuple('number_type', 'start end interval')\n",
        "# namedtuple to manipulate solution information\n",
        "assigned_number_type = collections.namedtuple('assigned_number_type',\n",
        "                                            'start lesson index duration')\n",
        "\n",
        "# creates lesson intervals and add to the corresponding classes lists\n",
        "all_numbers = {}\n",
        "class_to_interval = collections.defaultdict(list)\n",
        "\n",
        "for lesson_id, lesson in enumerate(lessons_data):\n",
        "    for number_id, number in enumerate(lesson):\n",
        "        classs = number[0]\n",
        "        duration = number[1]\n",
        "        suffix = '_%i_%i' % (lesson_id, number_id)\n",
        "        start_var = model.NewIntVar(0, horizon, 'start' + suffix)\n",
        "        end_var = model.NewIntVar(0, horizon, 'end' + suffix)\n",
        "        interval_var = model.NewIntervalVar(start_var, duration, end_var,\n",
        "                                            'interval' + suffix)\n",
        "        all_numbers[lesson_id, number_id] = number_type(start=start_var,\n",
        "                                                end=end_var,\n",
        "                                                interval=interval_var)\n",
        "        class_to_interval[classs].append(interval_var)\n",
        "\n",
        "# create and add disjunctive constraints\n",
        "for classs in all_classes:\n",
        "    model.AddNoOverlap(class_to_interval[classs])\n",
        "\n",
        "\n",
        "# add precedence constraints -> precedences between lessons\n",
        "for lesson_id, lesson in enumerate(lessons_data):\n",
        "    for i in conflict_dict[lesson_id]:\n",
        "        model.Add(all_numbers[lesson_id, 0].start != all_numbers[i, 0].start)\n",
        "    for number_id in range(len(lesson) - 1):\n",
        "        model.Add(all_numbers[lesson_id, number_id + 1].start >= all_numbers[lesson_id, number_id].end)\n",
        "\n",
        "\n",
        "# no conflicts constraint\n",
        "for elem in conflict_dict:\n",
        "    for i in conflict_dict[elem]:\n",
        "        model.Add(all_numbers[elem, 0].start != all_numbers[i, 0].start)\n",
        "        model.Add(all_numbers[elem, 0].start != all_numbers[i, 1].start)\n",
        "        model.Add(all_numbers[elem, 1].start != all_numbers[i, 0].start)\n",
        "        model.Add(all_numbers[elem, 1].start != all_numbers[i, 1].start)\n",
        "\n",
        "\n",
        "# creates the solver and solve\n",
        "solver = cp_model.CpSolver()\n",
        "status = solver.Solve(model)\n",
        "\n",
        "if status == cp_model.OPTIMAL:\n",
        "    # create one list of assigned numbers per class\n",
        "    assigned_lessons = collections.defaultdict(list)\n",
        "    for lesson_id, lesson in enumerate(lessons_data):\n",
        "        for number_id, number in enumerate(lesson):\n",
        "            classs = number[0]\n",
        "            assigned_lessons[classs].append(\n",
        "                assigned_number_type(start=solver.Value(\n",
        "                    all_numbers[lesson_id, number_id].start),\n",
        "                                    lesson=lesson_id,\n",
        "                                    index=number_id,\n",
        "                                    duration=number[1]))\n",
        "\n",
        "\n",
        "    for classs in all_classes:\n",
        "        # sort by starting time\n",
        "        assigned_lessons[classs].sort()\n",
        "        row = []\n",
        "        for assigned_number in assigned_lessons[classs]:\n",
        "            row.append([assigned_number.lesson, assigned_number.start])\n",
        "\n",
        "            start = assigned_number.start\n",
        "            duration = assigned_number.duration\n",
        "        for elem in row:\n",
        "            timetable_s2.iloc[classs, elem[1]] = elem[0]\n",
        "\n",
        "\n",
        "    print('  - conflicts: %i' % solver.NumConflicts())\n",
        "    print('  - wall time: %f s' % solver.WallTime())\n",
        "else:\n",
        "    print('No solution found.')\n",
        "\n"
      ],
      "metadata": {
        "id": "SjI18akiG-eJ"
      },
      "execution_count": null,
      "outputs": []
    },
    {
      "cell_type": "code",
      "source": [
        "timetable_s2 = timetable_s2.transpose()"
      ],
      "metadata": {
        "id": "9i0gtH3cG-eJ"
      },
      "execution_count": null,
      "outputs": []
    },
    {
      "cell_type": "code",
      "source": [
        "timetable_s2.columns = classes\n",
        "for i in range(len(timetable_s2)):\n",
        "  for j in range(len(classes)):\n",
        "    if not pd.isna(timetable_s2.iloc[i,j]):\n",
        "      timetable_s2.iloc[i,j] = courses[timetable_s2.iloc[i,j]]\n",
        "    else:\n",
        "      timetable_s2.iloc[i,j] = '*'"
      ],
      "metadata": {
        "id": "q5UpsdzkG-eJ"
      },
      "execution_count": null,
      "outputs": []
    },
    {
      "cell_type": "code",
      "source": [
        "new_tt = timetable_s2.copy() # working timetable\n",
        "\n",
        "final_tt2 = timetable_s2.copy() # final timetable\n",
        "current = check_soft(final_tt2) # value of the final\n",
        "\n",
        "for tts in range(100):\n",
        "  new = random.sample(range(25), 25) # random permutation\n",
        "  for i in range(25):\n",
        "    new_tt.iloc[i] = timetable_s2.iloc[new[i]]\n",
        "  value = check_soft(new_tt) # checking the value of the permutation\n",
        "  if value > current: # saving it if it's better\n",
        "    final_tt2 = new_tt.copy()\n",
        "    current = value\n",
        "\n",
        "end_2 = time.time()\n",
        "final_tt2.iloc[:,0:4]"
      ],
      "metadata": {
        "id": "Fq2uWX3VG-eK"
      },
      "execution_count": null,
      "outputs": []
    },
    {
      "cell_type": "markdown",
      "source": [
        "Unique courses in the first semester:"
      ],
      "metadata": {
        "id": "5YGbvJw8TrOR"
      }
    },
    {
      "cell_type": "code",
      "source": [
        "n_courses_1"
      ],
      "metadata": {
        "id": "KJR_t2DVTLIw"
      },
      "execution_count": null,
      "outputs": []
    },
    {
      "cell_type": "markdown",
      "source": [
        "Computational time for first semester"
      ],
      "metadata": {
        "id": "BMGBm2_TXpaH"
      }
    },
    {
      "cell_type": "code",
      "source": [
        "end_1-start_1"
      ],
      "metadata": {
        "id": "IKDflgepXtGP"
      },
      "execution_count": null,
      "outputs": []
    },
    {
      "cell_type": "markdown",
      "source": [
        "Unique courses in the second semester:"
      ],
      "metadata": {
        "id": "iANbbrPzTwSg"
      }
    },
    {
      "cell_type": "code",
      "source": [
        "n_courses_2"
      ],
      "metadata": {
        "id": "ZOOSHMV1TNFa"
      },
      "execution_count": null,
      "outputs": []
    },
    {
      "cell_type": "markdown",
      "source": [
        "Computational time for second semester:"
      ],
      "metadata": {
        "id": "SCINu-nFXyiD"
      }
    },
    {
      "cell_type": "code",
      "source": [
        "end_2-start_2"
      ],
      "metadata": {
        "id": "fSJrDLU-X1kv"
      },
      "execution_count": null,
      "outputs": []
    },
    {
      "cell_type": "markdown",
      "source": [
        "## STUDENT FUNCTION"
      ],
      "metadata": {
        "id": "lngPkh6RHdCS"
      }
    },
    {
      "cell_type": "markdown",
      "source": [
        "Function that returns the timetable of each student for semester 1 or 2"
      ],
      "metadata": {
        "id": "kXuiBLwll5aS"
      }
    },
    {
      "cell_type": "code",
      "source": [
        "def timetable(student_id, semester):\n",
        "    basic_tt = pd.DataFrame(columns = ['Monday','Tuesday','Wednesday','Thursday','Friday'], index = ['8-10','10-12','12-14','14-16','16-18'])\n",
        "    if semester == 1:\n",
        "        df_stu = semester_1[semester_1['student_id'] == student_id]\n",
        "        courses_to_follow = df_stu['course'].unique()\n",
        "        for i in range(len(slots)):\n",
        "            for j in range(len(classes)):\n",
        "                course = final_tt1.iloc[i,j]\n",
        "                if course in courses_to_follow:\n",
        "                    values = slots[i].split()\n",
        "                    basic_tt[values[0]][values[1]] = course, classes[j]\n",
        "    else:\n",
        "        df_stu = semester_2[semester_2['student_id'] == student_id]\n",
        "        courses_to_follow = df_stu['course'].unique()\n",
        "        for i in range(len(slots)):\n",
        "            for j in range(len(classes)):\n",
        "                course = final_tt2.iloc[i,j]\n",
        "                if course in courses_to_follow:\n",
        "                    values = slots[i].split()\n",
        "                    basic_tt[values[0]][values[1]] = course, classes[j]\n",
        "    basic_tt.fillna('*', inplace=True)\n",
        "    return basic_tt"
      ],
      "metadata": {
        "id": "KtwDLFShef3C"
      },
      "execution_count": null,
      "outputs": []
    },
    {
      "cell_type": "markdown",
      "source": [
        "Example with a random student:"
      ],
      "metadata": {
        "id": "bt5PD6W5mD7t"
      }
    },
    {
      "cell_type": "code",
      "source": [
        "pos = random.sample(range(len(df)),1)\n",
        "random_student = int(df.iloc[pos]['student_id'])"
      ],
      "metadata": {
        "id": "VioC-jACNo6I"
      },
      "execution_count": null,
      "outputs": []
    },
    {
      "cell_type": "code",
      "source": [
        "timetable(random_student, 1)"
      ],
      "metadata": {
        "id": "EK8L0jQoG3QR"
      },
      "execution_count": null,
      "outputs": []
    },
    {
      "cell_type": "code",
      "source": [
        "timetable(random_student, 2)"
      ],
      "metadata": {
        "id": "c8bYsoIUfptC"
      },
      "execution_count": null,
      "outputs": []
    },
    {
      "cell_type": "markdown",
      "source": [
        "## ASSESSMENT OF RESULTS"
      ],
      "metadata": {
        "id": "3ci-nJOvElwt"
      }
    },
    {
      "cell_type": "markdown",
      "source": [
        "Checking how many rooms are occupied inside the university for each time-slot."
      ],
      "metadata": {
        "id": "OOlAbAAmmIV_"
      }
    },
    {
      "cell_type": "code",
      "source": [
        "busyrooms_s1_before = []\n",
        "busyrooms_s2_before = []\n",
        "busyrooms_s1_after = []\n",
        "busyrooms_s2_after = []\n",
        "\n",
        "for i in range(25):\n",
        "  busyrooms_s1_after.append(sum(final_tt1.iloc[i] != '*')/len(classes)*100)\n",
        "  busyrooms_s2_after.append(sum(final_tt2.iloc[i] != '*')/len(classes)*100)\n",
        "  busyrooms_s1_before.append(sum(timetable_s1.iloc[i] != '*')/len(classes)*100)\n",
        "  busyrooms_s2_before.append(sum(timetable_s2.iloc[i] != '*')/len(classes)*100)\n"
      ],
      "metadata": {
        "id": "6Mf3ClN_Er55"
      },
      "execution_count": null,
      "outputs": []
    },
    {
      "cell_type": "markdown",
      "source": [
        "Percentual of room occupation in the university in the first semester before the permutation:"
      ],
      "metadata": {
        "id": "IBfL-ODCd7Ij"
      }
    },
    {
      "cell_type": "code",
      "source": [
        "import matplotlib.pyplot as plt\n",
        "\n",
        "plt.plot(slots,busyrooms_s1_before)\n",
        "plt.xticks(fontsize = 10, rotation = 90)\n",
        "plt.ylabel(\"% of rooms occupation\")\n",
        "plt.show()"
      ],
      "metadata": {
        "id": "cTapRW3RFJO4"
      },
      "execution_count": null,
      "outputs": []
    },
    {
      "cell_type": "markdown",
      "source": [
        "Percentual of room occupation in the university in the first semester after the permutation:"
      ],
      "metadata": {
        "id": "NKvCcqnLeG_w"
      }
    },
    {
      "cell_type": "code",
      "source": [
        "plt.plot(slots,busyrooms_s1_after)\n",
        "plt.xticks(fontsize = 10, rotation = 90)\n",
        "plt.ylabel(\"% of rooms occupation\")\n",
        "plt.show()"
      ],
      "metadata": {
        "id": "mTSl0o52WuAw"
      },
      "execution_count": null,
      "outputs": []
    },
    {
      "cell_type": "markdown",
      "source": [
        "Percentual of room occupation in the university in the second semester before the permutation:"
      ],
      "metadata": {
        "id": "fU-VvSFzeIlC"
      }
    },
    {
      "cell_type": "code",
      "source": [
        "plt.plot(slots,busyrooms_s2_before)\n",
        "plt.xticks(fontsize = 10, rotation = 90)\n",
        "plt.ylabel(\"% of rooms occupation\")\n",
        "plt.show()"
      ],
      "metadata": {
        "id": "q-_ktCaaFLYq"
      },
      "execution_count": null,
      "outputs": []
    },
    {
      "cell_type": "markdown",
      "source": [
        "Percentual of room occupation in the university in the second semester after the permutation:"
      ],
      "metadata": {
        "id": "toiNvmgveKpK"
      }
    },
    {
      "cell_type": "code",
      "source": [
        "plt.plot(slots,busyrooms_s2_after)\n",
        "plt.xticks(fontsize = 10, rotation = 90)\n",
        "plt.ylabel(\"% of rooms occupation\")\n",
        "plt.show()"
      ],
      "metadata": {
        "id": "BaWE19tZW7q2"
      },
      "execution_count": null,
      "outputs": []
    }
  ]
}